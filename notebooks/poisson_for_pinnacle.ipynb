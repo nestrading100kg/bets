{
 "cells": [
  {
   "cell_type": "code",
   "execution_count": 4,
   "metadata": {},
   "outputs": [],
   "source": [
    "import math\n",
    "import numpy as np"
   ]
  },
  {
   "cell_type": "code",
   "execution_count": 5,
   "metadata": {},
   "outputs": [],
   "source": [
    "import math\n",
    "def pois(a, mu=1):\n",
    "    return np.exp(mu*(-1)) * (mu ** a) / math.factorial(a)"
   ]
  },
  {
   "cell_type": "code",
   "execution_count": 3,
   "metadata": {},
   "outputs": [],
   "source": [
    "def prob_hand(a, threshold=1.3):\n",
    "    normed = 1.0\n",
    "    win1 = 0.0\n",
    "    for i in range (0, 100):\n",
    "        for j in range (0, 100):\n",
    "            if (i + a > j):\n",
    "                win1 += probs1[i] * probs2[j]\n",
    "            if (i + a == j):\n",
    "                normed -= probs1[i] * probs2[j]\n",
    "    win1 = win1 / normed\n",
    "    win2 = 1 - win1\n",
    "    win1 = np.round(win1, 3)\n",
    "    win2 = np.round(win2, 3)\n",
    "    return win1, win2\n",
    "\n",
    "def prob_total(a, threshold=1.3):\n",
    "    normed = 1.0\n",
    "    under = 0.0\n",
    "    for i in range (0, 100):\n",
    "        for j in range (0, 100):\n",
    "            if (i + j < a):\n",
    "                under += probs1[i] * probs2[j]\n",
    "            if (i + j == a):\n",
    "                normed -= probs1[i] * probs2[j]\n",
    "    under = under / normed\n",
    "    over = 1 - under\n",
    "    under = np.round(under, 3)\n",
    "    over = np.round(over, 3)\n",
    "    return under, over\n",
    "def prob_ind_total(a, probs1, threshold=1.3):\n",
    "    normed = 1.0\n",
    "    under = 0.0\n",
    "    for i in range (0, 100):\n",
    "        if (i < a):\n",
    "            under += probs1[i]\n",
    "        if (i == a):\n",
    "            normed -= probs1[i]\n",
    "    under = under / normed\n",
    "    over = 1 - under\n",
    "    under = np.round(under, 3)\n",
    "    over = np.round(over, 3)\n",
    "    return under, over"
   ]
  },
  {
   "cell_type": "code",
   "execution_count": null,
   "metadata": {},
   "outputs": [],
   "source": []
  },
  {
   "cell_type": "code",
   "execution_count": 10,
   "metadata": {},
   "outputs": [],
   "source": [
    "exp1 = 2.23\n",
    "exp2 = 1.04"
   ]
  },
  {
   "cell_type": "code",
   "execution_count": 11,
   "metadata": {},
   "outputs": [],
   "source": [
    "probs1 = []\n",
    "probs2 = []\n",
    "for i in range(0, 100):\n",
    "    probs1.append(pois(i, exp1))\n",
    "    probs2.append(pois(i, exp2))"
   ]
  },
  {
   "cell_type": "code",
   "execution_count": 18,
   "metadata": {
    "scrolled": false
   },
   "outputs": [
    {
     "data": {
      "text/plain": [
       "(0.365, 0.635)"
      ]
     },
     "execution_count": 18,
     "metadata": {},
     "output_type": "execute_result"
    }
   ],
   "source": [
    "prob_total(2.5)"
   ]
  },
  {
   "cell_type": "code",
   "execution_count": 20,
   "metadata": {},
   "outputs": [],
   "source": [
    "under = prob_total(2.5)[0]\n",
    "over = prob_total(2.5)[1]"
   ]
  },
  {
   "cell_type": "code",
   "execution_count": 25,
   "metadata": {},
   "outputs": [
    {
     "data": {
      "text/plain": [
       "0.7628499999999999"
      ]
     },
     "execution_count": 25,
     "metadata": {},
     "output_type": "execute_result"
    }
   ],
   "source": [
    "under * 2.09"
   ]
  },
  {
   "cell_type": "code",
   "execution_count": 26,
   "metadata": {},
   "outputs": [
    {
     "data": {
      "text/plain": [
       "1.1557"
      ]
     },
     "execution_count": 26,
     "metadata": {},
     "output_type": "execute_result"
    }
   ],
   "source": [
    "over * 1.82"
   ]
  },
  {
   "cell_type": "code",
   "execution_count": null,
   "metadata": {},
   "outputs": [],
   "source": []
  },
  {
   "cell_type": "code",
   "execution_count": null,
   "metadata": {},
   "outputs": [],
   "source": []
  },
  {
   "cell_type": "code",
   "execution_count": 119,
   "metadata": {},
   "outputs": [],
   "source": [
    "def pois(a, mu=1):\n",
    "    return np.exp(mu*(-1)) * (mu ** a) / math.factorial(a)\n",
    "\n",
    "\n",
    "def prob_hand(a, probs1, probs2):\n",
    "    normed = 1.0\n",
    "    win1 = 0.0\n",
    "    for i in range (0, 20):\n",
    "        for j in range (0, 20):\n",
    "            if (i + a > j):\n",
    "                win1 += probs1[i] * probs2[j]\n",
    "            if (i + a == j):\n",
    "                normed -= probs1[i] * probs2[j]\n",
    "    win1 = win1 / normed\n",
    "    return win1, 1 - win1\n",
    "\n",
    "def prob_x(probs1, probs2):\n",
    "    prob_x = 0.0\n",
    "    for i in range (0, 20):\n",
    "        for j in range (0, 20):\n",
    "            if (i == j):\n",
    "                prob_x += probs1[i] * probs2[j]\n",
    "    return prob_x, 1 - prob_x\n",
    "\n",
    "def prob_ind_total(a, probs1):\n",
    "    normed = 1.0\n",
    "    under = 0.0\n",
    "    for i in range (0, 20):\n",
    "        if (i < a):\n",
    "            under += probs1[i]\n",
    "        if (i == a):\n",
    "            normed -= probs1[i]\n",
    "    under = under / normed\n",
    "    return under, 1 - under\n",
    "\n",
    "def prob_hand_1(a, probs1, probs2): #для +0.25\n",
    "    normed = 1.0\n",
    "    win1 = 0.0\n",
    "    half_win = 0.0\n",
    "    for i in range (0, 20):\n",
    "        for j in range (0, 20):\n",
    "            if (i + a > j + 0.5):\n",
    "                win1 += probs1[i] * probs2[j]\n",
    "            if (np.round(i + a - 0.25) == j):\n",
    "                half_win += probs1[i] * probs2[j]\n",
    "    return win1, half_win, 1 - win1 - half_win\n",
    "\n",
    "def prob_hand_3(a, probs1, probs2): #для -0.25\n",
    "    normed = 1.0\n",
    "    win1 = 0.0\n",
    "    half_lose = 0.0\n",
    "    for i in range (0, 20):\n",
    "        for j in range (0, 20):\n",
    "            if (i + a > j + 0.5):\n",
    "                win1 += probs1[i] * probs2[j]\n",
    "            if (np.round(i + a + 0.25) == j):\n",
    "                half_lose += probs1[i] * probs2[j]\n",
    "    return win1, half_lose, 1 - win1 - half_lose\n",
    "\n",
    "\n",
    "def prob_total(a, probs1, probs2):\n",
    "    normed = 1.0\n",
    "    under = 0.0\n",
    "    for i in range (0, 20):\n",
    "        for j in range (0, 20):\n",
    "            if (i + j < a):\n",
    "                under += probs1[i] * probs2[j]\n",
    "            if (i + j == a):\n",
    "                normed -= probs1[i] * probs2[j]\n",
    "    under = under / normed\n",
    "    return under, 1 - under\n",
    "\n",
    "\n",
    "def prob_total_1(a, probs1, probs2): #для 2.25\n",
    "    normed = 1.0\n",
    "    win1 = 0.0\n",
    "    half_win = 0.0\n",
    "    for i in range (0, 20):\n",
    "        for j in range (0, 20):\n",
    "            if (i + j < a - 0.5):\n",
    "                win1 += probs1[i] * probs2[j]\n",
    "            if (np.round(i + j + 0.25, 2) == a):\n",
    "                half_win += probs1[i] * probs2[j]\n",
    "    return win1, half_win, 1 - win1 - half_win\n",
    "\n",
    "\n",
    "def prob_total_3(a, probs1, probs2): #для 2.75\n",
    "    normed = 1.0\n",
    "    win1 = 0.0\n",
    "    half_lose = 0.0\n",
    "    for i in range (0, 20):\n",
    "        for j in range (0, 20):\n",
    "            if (i + j < a - 0.5):\n",
    "                win1 += probs1[i] * probs2[j]\n",
    "            if (np.round(i + j - 0.25, 2) == a):\n",
    "                half_lose += probs1[i] * probs2[j]\n",
    "    return win1, half_lose, 1 - win1 - half_lose\n",
    "\n",
    "\n",
    "def prob_total_sum(a, probs):\n",
    "    normed = 1.0\n",
    "    under = 0.0\n",
    "    for i in range (0, 20):\n",
    "        if (i < a):\n",
    "            under += probs[i]\n",
    "        if (i == a):\n",
    "            normed -= probs[i]\n",
    "    under = under / normed\n",
    "    return under, 1 - under\n",
    "\n",
    "\n",
    "\n",
    "def value_1(odd, hand, exp1, exp2):\n",
    "    probs1 = []\n",
    "    probs2 = []\n",
    "    for i in range(0, 20):\n",
    "        probs1.append(pois(i, exp1))\n",
    "        probs2.append(pois(i, exp2))\n",
    "        \n",
    "    odd1 = odd\n",
    "    h = np.round(hand * 4)\n",
    "\n",
    "    if (h % 2 == 0):\n",
    "        value = prob_hand(hand, probs1, probs2)[0] * odd1\n",
    "        return value\n",
    "    elif (h % 4 == 1):\n",
    "        value = \\\n",
    "            prob_hand_1(hand, probs1, probs2)[0] * odd1 + \\\n",
    "            prob_hand_1(hand, probs1, probs2)[1] * ((odd1 - 1) / 2 + 1)\n",
    "        return value\n",
    "    else:\n",
    "        value = \\\n",
    "            prob_hand_3(hand, probs1, probs2)[0] * odd1 + \\\n",
    "            prob_hand_3(hand, probs1, probs2)[1] * 0.5\n",
    "        return value\n",
    "\n",
    "\n",
    "def value_2(odd, hand, exp1, exp2):\n",
    "    probs1 = []\n",
    "    probs2 = []\n",
    "    for i in range(0, 20):\n",
    "        probs1.append(pois(i, exp1))\n",
    "        probs2.append(pois(i, exp2))\n",
    "\n",
    "    odd1 = odd\n",
    "    h = np.round(hand * 4)\n",
    "    \n",
    "    if (h % 2 == 0):\n",
    "        value = prob_hand(hand, probs1, probs2)[1] * odd1\n",
    "        return value\n",
    "    elif (h % 4 == 3):\n",
    "        value = prob_hand_3(hand, probs1, probs2)[2] * odd1 + prob_hand_3(hand, probs1, probs2)[1] * ((odd1 - 1) / 2 + 1)\n",
    "        return value\n",
    "    else:\n",
    "        value = prob_hand_1(hand, probs1, probs2)[2] * odd1 + prob_hand_1(hand, probs1, probs2)[1] * 0.5\n",
    "        return value\n",
    "\n",
    "\n",
    "def value_under(odd, total, exp1, exp2):\n",
    "    probs1 = []\n",
    "    probs2 = []\n",
    "    for i in range(0, 20):\n",
    "        probs1.append(pois(i, exp1))\n",
    "        probs2.append(pois(i, exp2))\n",
    "\n",
    "    odd1 = odd\n",
    "    h = np.round(total * 4)\n",
    "    \n",
    "    if (h % 2 == 0):\n",
    "        value = prob_total(total, probs1, probs2)[0] * odd1\n",
    "        return value\n",
    "    elif (h % 4 == 1):\n",
    "        value = prob_total_1(total, probs1, probs2)[0] * odd1 + prob_total_1(total, probs1, probs2)[1] * ((odd1 - 1) / 2 + 1)\n",
    "        return value\n",
    "    else:\n",
    "        value = prob_total_3(total, probs1, probs2)[0] * odd1 + prob_total_3(total, probs1, probs2)[1] * 0.5\n",
    "        return value\n",
    "\n",
    "    \n",
    "\n",
    "def value_over(odd, total, exp1, exp2):\n",
    "    odd1 = odd\n",
    "    h = np.round(total * 4)\n",
    "    probs1 = []\n",
    "    probs2 = []\n",
    "    for i in range(0, 20):\n",
    "        probs1.append(pois(i, exp1))\n",
    "        probs2.append(pois(i, exp2))\n",
    "\n",
    "    if (h % 2 == 0):\n",
    "        value = prob_total(total, probs1, probs2)[1] * odd1\n",
    "        return value\n",
    "    elif (h % 4 == 3):\n",
    "        value = prob_total_3(total, probs1, probs2)[2] * odd1 + prob_total_3(total, probs1, probs2)[1] * ((odd1 - 1) / 2 + 1)\n",
    "        return value\n",
    "    else:\n",
    "        value = prob_total_1(total, probs1, probs2)[2] * odd1 + prob_total_1(total, probs1, probs2)[1] * 0.5\n",
    "        return value"
   ]
  },
  {
   "cell_type": "code",
   "execution_count": 103,
   "metadata": {
    "scrolled": true
   },
   "outputs": [
    {
     "data": {
      "text/plain": [
       "0.9400592086576429"
      ]
     },
     "execution_count": 103,
     "metadata": {},
     "output_type": "execute_result"
    }
   ],
   "source": [
    "value_1(1.9, -0.25, 1.25, 1)"
   ]
  },
  {
   "cell_type": "code",
   "execution_count": 104,
   "metadata": {
    "scrolled": true
   },
   "outputs": [
    {
     "data": {
      "text/plain": [
       "0.9741661900516165"
      ]
     },
     "execution_count": 104,
     "metadata": {},
     "output_type": "execute_result"
    }
   ],
   "source": [
    "value_2(1.9, -0.25, 1.25, 1)"
   ]
  },
  {
   "cell_type": "code",
   "execution_count": 105,
   "metadata": {
    "scrolled": true
   },
   "outputs": [
    {
     "data": {
      "text/plain": [
       "0.875651286289381"
      ]
     },
     "execution_count": 105,
     "metadata": {},
     "output_type": "execute_result"
    }
   ],
   "source": [
    "value_over(1.9, 2.25, 1.25, 1)"
   ]
  },
  {
   "cell_type": "code",
   "execution_count": 106,
   "metadata": {
    "scrolled": true
   },
   "outputs": [
    {
     "data": {
      "text/plain": [
       "1.0376883030692299"
      ]
     },
     "execution_count": 106,
     "metadata": {},
     "output_type": "execute_result"
    }
   ],
   "source": [
    "value_under(1.9, 2.25, 1.25, 1)"
   ]
  },
  {
   "cell_type": "code",
   "execution_count": 107,
   "metadata": {
    "scrolled": false
   },
   "outputs": [
    {
     "data": {
      "text/plain": [
       "0.7978052215650476"
      ]
     },
     "execution_count": 107,
     "metadata": {},
     "output_type": "execute_result"
    }
   ],
   "source": [
    "value_1(1.9, -0.5, 1.25, 1)"
   ]
  },
  {
   "cell_type": "code",
   "execution_count": 108,
   "metadata": {},
   "outputs": [
    {
     "data": {
      "text/plain": [
       "1.1021947784349522"
      ]
     },
     "execution_count": 108,
     "metadata": {},
     "output_type": "execute_result"
    }
   ],
   "source": [
    "value_2(1.9, -0.5, 1.25, 1)"
   ]
  },
  {
   "cell_type": "code",
   "execution_count": 109,
   "metadata": {},
   "outputs": [
    {
     "data": {
      "text/plain": [
       "0.7422553927032713"
      ]
     },
     "execution_count": 109,
     "metadata": {},
     "output_type": "execute_result"
    }
   ],
   "source": [
    "value_over(1.9, 2.5, 1.25, 1)"
   ]
  },
  {
   "cell_type": "code",
   "execution_count": 110,
   "metadata": {},
   "outputs": [
    {
     "data": {
      "text/plain": [
       "1.1577446072967286"
      ]
     },
     "execution_count": 110,
     "metadata": {},
     "output_type": "execute_result"
    }
   ],
   "source": [
    "value_under(1.9, 2.5, 1.25, 1)"
   ]
  },
  {
   "cell_type": "code",
   "execution_count": 111,
   "metadata": {},
   "outputs": [
    {
     "data": {
      "text/plain": [
       "1.1150441832758362"
      ]
     },
     "execution_count": 111,
     "metadata": {},
     "output_type": "execute_result"
    }
   ],
   "source": [
    "value_1(1.9, 0, 1.25, 1)"
   ]
  },
  {
   "cell_type": "code",
   "execution_count": 112,
   "metadata": {},
   "outputs": [
    {
     "data": {
      "text/plain": [
       "0.7849558167241637"
      ]
     },
     "execution_count": 112,
     "metadata": {},
     "output_type": "execute_result"
    }
   ],
   "source": [
    "value_2(1.9, 0, 1.25, 1)"
   ]
  },
  {
   "cell_type": "code",
   "execution_count": 113,
   "metadata": {},
   "outputs": [
    {
     "data": {
      "text/plain": [
       "1.0123391687616237"
      ]
     },
     "execution_count": 113,
     "metadata": {},
     "output_type": "execute_result"
    }
   ],
   "source": [
    "value_over(1.9, 2, 1.25, 1)"
   ]
  },
  {
   "cell_type": "code",
   "execution_count": 114,
   "metadata": {},
   "outputs": [
    {
     "data": {
      "text/plain": [
       "0.8876608312383762"
      ]
     },
     "execution_count": 114,
     "metadata": {},
     "output_type": "execute_result"
    }
   ],
   "source": [
    "value_under(1.9, 2, 1.25, 1)"
   ]
  },
  {
   "cell_type": "code",
   "execution_count": 120,
   "metadata": {
    "scrolled": true
   },
   "outputs": [
    {
     "data": {
      "text/plain": [
       "0.9152472247765705"
      ]
     },
     "execution_count": 120,
     "metadata": {},
     "output_type": "execute_result"
    }
   ],
   "source": [
    "value_1(1.9, -0.75, 1.25, 0.5)"
   ]
  },
  {
   "cell_type": "code",
   "execution_count": 121,
   "metadata": {
    "scrolled": true
   },
   "outputs": [
    {
     "data": {
      "text/plain": [
       "0.9993802143629553"
      ]
     },
     "execution_count": 121,
     "metadata": {},
     "output_type": "execute_result"
    }
   ],
   "source": [
    "value_2(1.9, -0.75, 1.25, 0.5)"
   ]
  },
  {
   "cell_type": "code",
   "execution_count": 122,
   "metadata": {
    "scrolled": false
   },
   "outputs": [
    {
     "data": {
      "text/plain": [
       "0.8722900375626018"
      ]
     },
     "execution_count": 122,
     "metadata": {},
     "output_type": "execute_result"
    }
   ],
   "source": [
    "value_over(1.9, 1.75, 1.25, 0.5)"
   ]
  },
  {
   "cell_type": "code",
   "execution_count": 123,
   "metadata": {
    "scrolled": true
   },
   "outputs": [
    {
     "data": {
      "text/plain": [
       "1.0410145299828228"
      ]
     },
     "execution_count": 123,
     "metadata": {},
     "output_type": "execute_result"
    }
   ],
   "source": [
    "value_under(1.9, 1.75, 1.25, 0.5)"
   ]
  },
  {
   "cell_type": "code",
   "execution_count": null,
   "metadata": {},
   "outputs": [],
   "source": []
  },
  {
   "cell_type": "code",
   "execution_count": null,
   "metadata": {},
   "outputs": [],
   "source": []
  },
  {
   "cell_type": "code",
   "execution_count": null,
   "metadata": {},
   "outputs": [],
   "source": []
  },
  {
   "cell_type": "code",
   "execution_count": null,
   "metadata": {},
   "outputs": [],
   "source": []
  },
  {
   "cell_type": "code",
   "execution_count": null,
   "metadata": {},
   "outputs": [],
   "source": []
  },
  {
   "cell_type": "code",
   "execution_count": null,
   "metadata": {},
   "outputs": [],
   "source": []
  },
  {
   "cell_type": "code",
   "execution_count": null,
   "metadata": {},
   "outputs": [],
   "source": []
  },
  {
   "cell_type": "code",
   "execution_count": null,
   "metadata": {},
   "outputs": [],
   "source": []
  },
  {
   "cell_type": "code",
   "execution_count": null,
   "metadata": {},
   "outputs": [],
   "source": []
  },
  {
   "cell_type": "code",
   "execution_count": null,
   "metadata": {},
   "outputs": [],
   "source": []
  }
 ],
 "metadata": {
  "kernelspec": {
   "display_name": "Python 3",
   "language": "python",
   "name": "python3"
  },
  "language_info": {
   "codemirror_mode": {
    "name": "ipython",
    "version": 3
   },
   "file_extension": ".py",
   "mimetype": "text/x-python",
   "name": "python",
   "nbconvert_exporter": "python",
   "pygments_lexer": "ipython3",
   "version": "3.8.10"
  }
 },
 "nbformat": 4,
 "nbformat_minor": 5
}
